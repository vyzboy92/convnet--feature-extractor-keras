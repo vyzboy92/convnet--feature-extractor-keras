{
 "cells": [
  {
   "cell_type": "markdown",
   "metadata": {},
   "source": [
    "# Alexnet as feature extractor"
   ]
  },
  {
   "cell_type": "code",
   "execution_count": null,
   "metadata": {
    "collapsed": true
   },
   "outputs": [],
   "source": [
    "from keras.preprocessing.image import ImageDataGenerator\n",
    "from keras.preprocessing import image\n",
    "from keras.optimizers import SGD\n",
    "#from keras.applications.alexnet import preprocess_input\n",
    "from alexnet_base import *\n",
    "from utils import *\n",
    "import os, sys\n",
    "import numpy as np\n",
    "\n",
    "\n",
    "batch_size = 16\n",
    "input_size = (3,227,227)\n",
    "nb_classes = 2\n",
    "mean_flag = True\n",
    "\n",
    "alexnet = get_alexnet(input_size,nb_classes,mean_flag)\n",
    "alexnet.load_weights('../convnets-keras/weights/final-model.h5', by_name=True)\n",
    "\n",
    "alexnet_convolutional_only = Model(input=alexnet.input, output=alexnet.get_layer('dense_2').output)   # TRUNCATE MODEL AT FINAL DENSE LAYER "
   ]
  },
  {
   "cell_type": "markdown",
   "metadata": {},
   "source": [
    "# Extract Train Data"
   ]
  },
  {
   "cell_type": "code",
   "execution_count": null,
   "metadata": {
    "collapsed": true
   },
   "outputs": [],
   "source": [
    "train_dat=np.empty((0,4096))\n",
    "im_path = \"/home/vysakh/My Files/Mini Project/AlexNet-Experiments-Keras-master/DATA/Train/Others/\"\n",
    "dirs = os.listdir( im_path )\n",
    "for item in dirs:\n",
    "        if os.path.isfile(im_path+item):\n",
    "            im = image.load_img(im_path+item,target_size=(227,227))\n",
    "            im=image.img_to_array(im)\n",
    "            im=np.expand_dims(im,axis=0)\n",
    "            f=alexnet_convolutional_only.predict(im)\n",
    "            train_dat=np.append(train_dat,f,axis=0)"
   ]
  },
  {
   "cell_type": "code",
   "execution_count": null,
   "metadata": {
    "collapsed": true
   },
   "outputs": [],
   "source": [
    "im_path = \"/home/vysakh/My Files/Mini Project/AlexNet-Experiments-Keras-master/DATA/Train/Vehicle/\"\n",
    "dirs = os.listdir( im_path )\n",
    "for item in dirs:\n",
    "        if os.path.isfile(im_path+item):\n",
    "            im = image.load_img(im_path+item,target_size=(227,227))\n",
    "            im=image.img_to_array(im)\n",
    "            im=np.expand_dims(im,axis=0)\n",
    "            f=alexnet_convolutional_only.predict(im)\n",
    "            train_dat=np.append(train_dat,f,axis=0)"
   ]
  },
  {
   "cell_type": "code",
   "execution_count": null,
   "metadata": {
    "collapsed": true
   },
   "outputs": [],
   "source": [
    "y=np.array([0]*2656+ [1]*2656)# True Labels\n",
    "train_data=np.c_[y,train_dat]\n",
    "np.savetxt('/home/vysakh/tr_dat.csv',train_data,delimiter=',')"
   ]
  },
  {
   "cell_type": "markdown",
   "metadata": {},
   "source": [
    "# Extract Test Data"
   ]
  },
  {
   "cell_type": "code",
   "execution_count": null,
   "metadata": {
    "collapsed": true
   },
   "outputs": [],
   "source": [
    "test_dat=np.empty((0,4096))\n",
    "im_path = \"/home/vysakh/My Files/Mini Project/AlexNet-Experiments-Keras-master/DATA/Test/Others/\"\n",
    "dirs = os.listdir( im_path )\n",
    "for item in dirs:\n",
    "        if os.path.isfile(im_path+item):\n",
    "            im = image.load_img(im_path+item,target_size=(227,227))\n",
    "            im=image.img_to_array(im)\n",
    "            im=np.expand_dims(im,axis=0)\n",
    "            f=alexnet_convolutional_only.predict(im)\n",
    "            test_dat=np.append(test_dat,f,axis=0)"
   ]
  },
  {
   "cell_type": "code",
   "execution_count": null,
   "metadata": {
    "collapsed": true
   },
   "outputs": [],
   "source": [
    "im_path = \"/home/vysakh/My Files/Mini Project/AlexNet-Experiments-Keras-master/DATA/Test/Vehicle/\"\n",
    "dirs = os.listdir( im_path )\n",
    "for item in dirs:\n",
    "        if os.path.isfile(im_path+item):\n",
    "            im = image.load_img(im_path+item,target_size=(227,227))\n",
    "            im=image.img_to_array(im)\n",
    "            im=np.expand_dims(im,axis=0)\n",
    "            f=alexnet_convolutional_only.predict(im)\n",
    "            test_dat=np.append(test_dat,f,axis=0)"
   ]
  },
  {
   "cell_type": "code",
   "execution_count": null,
   "metadata": {
    "collapsed": true
   },
   "outputs": [],
   "source": [
    "y=np.array([0]*666+ [1]*666)\n",
    "test_data=np.c_[y,test_dat]\n",
    "np.savetxt('/home/vysakh/te_dat.csv',test_data,delimiter=',')"
   ]
  }
 ],
 "metadata": {
  "kernelspec": {
   "display_name": "Python 2",
   "language": "python",
   "name": "python2"
  },
  "language_info": {
   "codemirror_mode": {
    "name": "ipython",
    "version": 2
   },
   "file_extension": ".py",
   "mimetype": "text/x-python",
   "name": "python",
   "nbconvert_exporter": "python",
   "pygments_lexer": "ipython2",
   "version": "2.7.13"
  }
 },
 "nbformat": 4,
 "nbformat_minor": 2
}
