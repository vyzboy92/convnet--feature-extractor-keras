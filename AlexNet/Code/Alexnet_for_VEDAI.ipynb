{
 "cells": [
  {
   "cell_type": "markdown",
   "metadata": {},
   "source": [
    "# Alexnet model for Image classificarion"
   ]
  },
  {
   "cell_type": "code",
   "execution_count": 1,
   "metadata": {},
   "outputs": [
    {
     "name": "stderr",
     "output_type": "stream",
     "text": [
      "Using Theano backend.\n"
     ]
    },
    {
     "name": "stdout",
     "output_type": "stream",
     "text": [
      "Found 5312 images belonging to 2 classes.\n",
      "Found 1332 images belonging to 2 classes.\n"
     ]
    }
   ],
   "source": [
    "%matplotlib inline\n",
    "\n",
    "from keras.preprocessing.image import ImageDataGenerator\n",
    "from keras.optimizers import SGD\n",
    "\n",
    "from alexnet_base import *\n",
    "from utils import *\n",
    "\n",
    "\n",
    "batch_size = 16\n",
    "input_size = (3,227,227)\n",
    "nb_classes = 2\n",
    "mean_flag = True\n",
    "\n",
    "train_datagen = ImageDataGenerator(\n",
    "        shear_range=0.2,\n",
    "        zoom_range=0.2,\n",
    "        horizontal_flip=True)\n",
    "\n",
    "test_datagen = ImageDataGenerator()\n",
    "                                  \n",
    "\n",
    "train_generator = train_datagen.flow_from_directory(\n",
    "        '../DATA/Train',  \n",
    "        batch_size=batch_size,\n",
    "        shuffle=True,\n",
    "        target_size=input_size[1:],\n",
    "        class_mode='categorical')  \n",
    "\n",
    "validation_generator = test_datagen.flow_from_directory(\n",
    "        '../DATA/Test',  \n",
    "        batch_size=batch_size,\n",
    "        target_size=input_size[1:],\n",
    "        shuffle=True,\n",
    "        class_mode='categorical')"
   ]
  },
  {
   "cell_type": "code",
   "execution_count": 2,
   "metadata": {},
   "outputs": [
    {
     "name": "stderr",
     "output_type": "stream",
     "text": [
      "/home/vysakh/anaconda2/envs/theano/lib/python2.7/site-packages/keras/layers/core.py:577: UserWarning: `output_shape` argument not specified for layer mean_subtraction and cannot be automatically inferred with the Theano backend. Defaulting to output shape `(None, 3, 227, 227)` (same as input shape). If the expected output shape is different, specify it via the `output_shape` argument.\n",
      "  .format(self.name, input_shape))\n"
     ]
    },
    {
     "name": "stdout",
     "output_type": "stream",
     "text": [
      "____________________________________________________________________________________________________\n",
      "Layer (type)                     Output Shape          Param #     Connected to                     \n",
      "====================================================================================================\n",
      "input_1 (InputLayer)             (None, 3, 227, 227)   0                                            \n",
      "____________________________________________________________________________________________________\n",
      "mean_subtraction (Lambda)        (None, 3, 227, 227)   0           input_1[0][0]                    \n",
      "____________________________________________________________________________________________________\n",
      "conv_1 (Convolution2D)           (None, 96, 55, 55)    34944       mean_subtraction[0][0]           \n",
      "____________________________________________________________________________________________________\n",
      "maxpooling2d_1 (MaxPooling2D)    (None, 96, 27, 27)    0           conv_1[0][0]                     \n",
      "____________________________________________________________________________________________________\n",
      "convpool_1 (Lambda)              (None, 96, 27, 27)    0           maxpooling2d_1[0][0]             \n",
      "____________________________________________________________________________________________________\n",
      "zeropadding2d_1 (ZeroPadding2D)  (None, 96, 31, 31)    0           convpool_1[0][0]                 \n",
      "____________________________________________________________________________________________________\n",
      "lambda_1 (Lambda)                (None, 48, 31, 31)    0           zeropadding2d_1[0][0]            \n",
      "____________________________________________________________________________________________________\n",
      "lambda_2 (Lambda)                (None, 48, 31, 31)    0           zeropadding2d_1[0][0]            \n",
      "____________________________________________________________________________________________________\n",
      "conv_2_1 (Convolution2D)         (None, 128, 27, 27)   153728      lambda_1[0][0]                   \n",
      "____________________________________________________________________________________________________\n",
      "conv_2_2 (Convolution2D)         (None, 128, 27, 27)   153728      lambda_2[0][0]                   \n",
      "____________________________________________________________________________________________________\n",
      "conv_2 (Merge)                   (None, 256, 27, 27)   0           conv_2_1[0][0]                   \n",
      "                                                                   conv_2_2[0][0]                   \n",
      "____________________________________________________________________________________________________\n",
      "maxpooling2d_2 (MaxPooling2D)    (None, 256, 13, 13)   0           conv_2[0][0]                     \n",
      "____________________________________________________________________________________________________\n",
      "lambda_3 (Lambda)                (None, 256, 13, 13)   0           maxpooling2d_2[0][0]             \n",
      "____________________________________________________________________________________________________\n",
      "zeropadding2d_2 (ZeroPadding2D)  (None, 256, 15, 15)   0           lambda_3[0][0]                   \n",
      "____________________________________________________________________________________________________\n",
      "conv_3 (Convolution2D)           (None, 384, 13, 13)   885120      zeropadding2d_2[0][0]            \n",
      "____________________________________________________________________________________________________\n",
      "zeropadding2d_3 (ZeroPadding2D)  (None, 384, 15, 15)   0           conv_3[0][0]                     \n",
      "____________________________________________________________________________________________________\n",
      "lambda_4 (Lambda)                (None, 192, 15, 15)   0           zeropadding2d_3[0][0]            \n",
      "____________________________________________________________________________________________________\n",
      "lambda_5 (Lambda)                (None, 192, 15, 15)   0           zeropadding2d_3[0][0]            \n",
      "____________________________________________________________________________________________________\n",
      "conv_4_1 (Convolution2D)         (None, 192, 13, 13)   331968      lambda_4[0][0]                   \n",
      "____________________________________________________________________________________________________\n",
      "conv_4_2 (Convolution2D)         (None, 192, 13, 13)   331968      lambda_5[0][0]                   \n",
      "____________________________________________________________________________________________________\n",
      "conv_4 (Merge)                   (None, 384, 13, 13)   0           conv_4_1[0][0]                   \n",
      "                                                                   conv_4_2[0][0]                   \n",
      "____________________________________________________________________________________________________\n",
      "zeropadding2d_4 (ZeroPadding2D)  (None, 384, 15, 15)   0           conv_4[0][0]                     \n",
      "____________________________________________________________________________________________________\n",
      "lambda_6 (Lambda)                (None, 192, 15, 15)   0           zeropadding2d_4[0][0]            \n",
      "____________________________________________________________________________________________________\n",
      "lambda_7 (Lambda)                (None, 192, 15, 15)   0           zeropadding2d_4[0][0]            \n",
      "____________________________________________________________________________________________________\n",
      "conv_5_1 (Convolution2D)         (None, 128, 13, 13)   221312      lambda_6[0][0]                   \n",
      "____________________________________________________________________________________________________\n",
      "conv_5_2 (Convolution2D)         (None, 128, 13, 13)   221312      lambda_7[0][0]                   \n",
      "____________________________________________________________________________________________________\n",
      "conv_5 (Merge)                   (None, 256, 13, 13)   0           conv_5_1[0][0]                   \n",
      "                                                                   conv_5_2[0][0]                   \n",
      "____________________________________________________________________________________________________\n",
      "convpool_5 (MaxPooling2D)        (None, 256, 6, 6)     0           conv_5[0][0]                     \n",
      "____________________________________________________________________________________________________\n",
      "flatten (Flatten)                (None, 9216)          0           convpool_5[0][0]                 \n",
      "____________________________________________________________________________________________________\n",
      "dense_1 (Dense)                  (None, 4096)          37752832    flatten[0][0]                    \n",
      "____________________________________________________________________________________________________\n",
      "dropout_1 (Dropout)              (None, 4096)          0           dense_1[0][0]                    \n",
      "____________________________________________________________________________________________________\n",
      "dense_2 (Dense)                  (None, 4096)          16781312    dropout_1[0][0]                  \n",
      "____________________________________________________________________________________________________\n",
      "dropout_2 (Dropout)              (None, 4096)          0           dense_2[0][0]                    \n",
      "____________________________________________________________________________________________________\n",
      "dense_3_new (Dense)              (None, 2)             8194        dropout_2[0][0]                  \n",
      "____________________________________________________________________________________________________\n",
      "softmax (Activation)             (None, 2)             0           dense_3_new[0][0]                \n",
      "====================================================================================================\n",
      "Total params: 56,876,418\n",
      "Trainable params: 56,876,418\n",
      "Non-trainable params: 0\n",
      "____________________________________________________________________________________________________\n",
      "None\n"
     ]
    }
   ],
   "source": [
    "alexnet = get_alexnet(input_size,nb_classes,mean_flag)\n",
    "    \n",
    "print alexnet.summary()"
   ]
  },
  {
   "cell_type": "markdown",
   "metadata": {},
   "source": [
    "# Training with random weight initialization"
   ]
  },
  {
   "cell_type": "code",
   "execution_count": null,
   "metadata": {
    "collapsed": true
   },
   "outputs": [],
   "source": [
    "sgd = SGD(lr=0.01, decay=1e-6, momentum=0.9, nesterov=True)\n",
    "alexnet.compile(loss='mse',\n",
    "              optimizer=sgd,\n",
    "              metrics=['accuracy'])\n",
    "\n",
    "history = alexnet.fit_generator(train_generator,\n",
    "                        samples_per_epoch=2000,\n",
    "                        validation_data=validation_generator,\n",
    "                        nb_val_samples=800,\n",
    "                        nb_epoch=80,\n",
    "                        verbose=1)"
   ]
  },
  {
   "cell_type": "code",
   "execution_count": null,
   "metadata": {
    "collapsed": true
   },
   "outputs": [],
   "source": [
    "plot_performance(history)"
   ]
  },
  {
   "cell_type": "markdown",
   "metadata": {},
   "source": [
    "# Training with ImageNet weights"
   ]
  },
  {
   "cell_type": "code",
   "execution_count": 28,
   "metadata": {},
   "outputs": [
    {
     "name": "stdout",
     "output_type": "stream",
     "text": [
      "____________________________________________________________________________________________________\n",
      "Layer (type)                     Output Shape          Param #     Connected to                     \n",
      "====================================================================================================\n",
      "input_4 (InputLayer)             (None, 3, 227, 227)   0                                            \n",
      "____________________________________________________________________________________________________\n",
      "mean_subtraction (Lambda)        (None, 3, 227, 227)   0           input_4[0][0]                    \n",
      "____________________________________________________________________________________________________\n",
      "conv_1 (Convolution2D)           (None, 96, 55, 55)    34944       mean_subtraction[0][0]           \n",
      "____________________________________________________________________________________________________\n",
      "maxpooling2d_7 (MaxPooling2D)    (None, 96, 27, 27)    0           conv_1[0][0]                     \n",
      "____________________________________________________________________________________________________\n",
      "convpool_1 (Lambda)              (None, 96, 27, 27)    0           maxpooling2d_7[0][0]             \n",
      "____________________________________________________________________________________________________\n",
      "zeropadding2d_13 (ZeroPadding2D) (None, 96, 31, 31)    0           convpool_1[0][0]                 \n",
      "____________________________________________________________________________________________________\n",
      "lambda_22 (Lambda)               (None, 48, 31, 31)    0           zeropadding2d_13[0][0]           \n",
      "____________________________________________________________________________________________________\n",
      "lambda_23 (Lambda)               (None, 48, 31, 31)    0           zeropadding2d_13[0][0]           \n",
      "____________________________________________________________________________________________________\n",
      "conv_2_1 (Convolution2D)         (None, 128, 27, 27)   153728      lambda_22[0][0]                  \n",
      "____________________________________________________________________________________________________\n",
      "conv_2_2 (Convolution2D)         (None, 128, 27, 27)   153728      lambda_23[0][0]                  \n",
      "____________________________________________________________________________________________________\n",
      "conv_2 (Merge)                   (None, 256, 27, 27)   0           conv_2_1[0][0]                   \n",
      "                                                                   conv_2_2[0][0]                   \n",
      "____________________________________________________________________________________________________\n",
      "maxpooling2d_8 (MaxPooling2D)    (None, 256, 13, 13)   0           conv_2[0][0]                     \n",
      "____________________________________________________________________________________________________\n",
      "lambda_24 (Lambda)               (None, 256, 13, 13)   0           maxpooling2d_8[0][0]             \n",
      "____________________________________________________________________________________________________\n",
      "zeropadding2d_14 (ZeroPadding2D) (None, 256, 15, 15)   0           lambda_24[0][0]                  \n",
      "____________________________________________________________________________________________________\n",
      "conv_3 (Convolution2D)           (None, 384, 13, 13)   885120      zeropadding2d_14[0][0]           \n",
      "____________________________________________________________________________________________________\n",
      "zeropadding2d_15 (ZeroPadding2D) (None, 384, 15, 15)   0           conv_3[0][0]                     \n",
      "____________________________________________________________________________________________________\n",
      "lambda_25 (Lambda)               (None, 192, 15, 15)   0           zeropadding2d_15[0][0]           \n",
      "____________________________________________________________________________________________________\n",
      "lambda_26 (Lambda)               (None, 192, 15, 15)   0           zeropadding2d_15[0][0]           \n",
      "____________________________________________________________________________________________________\n",
      "conv_4_1 (Convolution2D)         (None, 192, 13, 13)   331968      lambda_25[0][0]                  \n",
      "____________________________________________________________________________________________________\n",
      "conv_4_2 (Convolution2D)         (None, 192, 13, 13)   331968      lambda_26[0][0]                  \n",
      "____________________________________________________________________________________________________\n",
      "conv_4 (Merge)                   (None, 384, 13, 13)   0           conv_4_1[0][0]                   \n",
      "                                                                   conv_4_2[0][0]                   \n",
      "____________________________________________________________________________________________________\n",
      "zeropadding2d_16 (ZeroPadding2D) (None, 384, 15, 15)   0           conv_4[0][0]                     \n",
      "____________________________________________________________________________________________________\n",
      "lambda_27 (Lambda)               (None, 192, 15, 15)   0           zeropadding2d_16[0][0]           \n",
      "____________________________________________________________________________________________________\n",
      "lambda_28 (Lambda)               (None, 192, 15, 15)   0           zeropadding2d_16[0][0]           \n",
      "____________________________________________________________________________________________________\n",
      "conv_5_1 (Convolution2D)         (None, 128, 13, 13)   221312      lambda_27[0][0]                  \n",
      "____________________________________________________________________________________________________\n",
      "conv_5_2 (Convolution2D)         (None, 128, 13, 13)   221312      lambda_28[0][0]                  \n",
      "____________________________________________________________________________________________________\n",
      "conv_5 (Merge)                   (None, 256, 13, 13)   0           conv_5_1[0][0]                   \n",
      "                                                                   conv_5_2[0][0]                   \n",
      "____________________________________________________________________________________________________\n",
      "convpool_5 (MaxPooling2D)        (None, 256, 6, 6)     0           conv_5[0][0]                     \n",
      "____________________________________________________________________________________________________\n",
      "flatten (Flatten)                (None, 9216)          0           convpool_5[0][0]                 \n",
      "____________________________________________________________________________________________________\n",
      "dense_1 (Dense)                  (None, 4096)          37752832    flatten[0][0]                    \n",
      "____________________________________________________________________________________________________\n",
      "dropout_7 (Dropout)              (None, 4096)          0           dense_1[0][0]                    \n",
      "____________________________________________________________________________________________________\n",
      "dense_2 (Dense)                  (None, 4096)          16781312    dropout_7[0][0]                  \n",
      "____________________________________________________________________________________________________\n",
      "dropout_8 (Dropout)              (None, 4096)          0           dense_2[0][0]                    \n",
      "____________________________________________________________________________________________________\n",
      "dense_3_new (Dense)              (None, 2)             8194        dropout_8[0][0]                  \n",
      "____________________________________________________________________________________________________\n",
      "softmax (Activation)             (None, 2)             0           dense_3_new[0][0]                \n",
      "====================================================================================================\n",
      "Total params: 56,876,418\n",
      "Trainable params: 56,876,418\n",
      "Non-trainable params: 0\n",
      "____________________________________________________________________________________________________\n",
      "None\n"
     ]
    }
   ],
   "source": [
    "alexnet = get_alexnet(input_size,nb_classes,mean_flag)\n",
    "#alexnet.load_weights('../convnets-keras/weights/alexnet_weights.h5', by_name=True)\n",
    "alexnet.load_weights('../convnets-keras/weights/final-model.h5', by_name=True)\n",
    "print alexnet.summary()"
   ]
  },
  {
   "cell_type": "code",
   "execution_count": 30,
   "metadata": {
    "scrolled": false
   },
   "outputs": [
    {
     "name": "stdout",
     "output_type": "stream",
     "text": [
      "Epoch 1/1\n",
      "2000/2000 [==============================] - 137s - loss: 0.0105 - acc: 0.9890 - val_loss: 0.0086 - val_acc: 0.9875\n",
      "Epoch 1/1\n",
      "2000/2000 [==============================] - 133s - loss: 0.0096 - acc: 0.9870 - val_loss: 0.0079 - val_acc: 0.9913\n",
      "Epoch 1/1\n",
      "2000/2000 [==============================] - 118s - loss: 0.0106 - acc: 0.9885 - val_loss: 0.0075 - val_acc: 0.9875\n",
      "Epoch 1/1\n",
      "2000/2000 [==============================] - 116s - loss: 0.0107 - acc: 0.9845 - val_loss: 0.0080 - val_acc: 0.9888\n",
      "Epoch 1/1\n",
      "2000/2000 [==============================] - 116s - loss: 0.0128 - acc: 0.9855 - val_loss: 0.0066 - val_acc: 0.9900\n",
      "Epoch 1/1\n",
      "2000/2000 [==============================] - 116s - loss: 0.0103 - acc: 0.9885 - val_loss: 0.0090 - val_acc: 0.9875\n",
      "Epoch 1/1\n",
      "2000/2000 [==============================] - 116s - loss: 0.0080 - acc: 0.9910 - val_loss: 0.0058 - val_acc: 0.9913\n",
      "Epoch 1/1\n",
      "2000/2000 [==============================] - 116s - loss: 0.0090 - acc: 0.9890 - val_loss: 0.0073 - val_acc: 0.9900\n",
      "Epoch 1/1\n",
      "2000/2000 [==============================] - 116s - loss: 0.0088 - acc: 0.9900 - val_loss: 0.0070 - val_acc: 0.9900\n",
      "Epoch 1/1\n",
      "2000/2000 [==============================] - 116s - loss: 0.0120 - acc: 0.9835 - val_loss: 0.0078 - val_acc: 0.9900\n",
      "Epoch 1/1\n",
      "2000/2000 [==============================] - 124s - loss: 0.0118 - acc: 0.9850 - val_loss: 0.0059 - val_acc: 0.9938\n",
      "Epoch 1/1\n",
      "2000/2000 [==============================] - 124s - loss: 0.0087 - acc: 0.9895 - val_loss: 0.0059 - val_acc: 0.9913\n",
      "Epoch 1/1\n",
      "2000/2000 [==============================] - 124s - loss: 0.0097 - acc: 0.9875 - val_loss: 0.0075 - val_acc: 0.9900\n",
      "Epoch 1/1\n",
      "2000/2000 [==============================] - 124s - loss: 0.0082 - acc: 0.9900 - val_loss: 0.0064 - val_acc: 0.9925\n",
      "Epoch 1/1\n",
      "2000/2000 [==============================] - 124s - loss: 0.0113 - acc: 0.9875 - val_loss: 0.0068 - val_acc: 0.9900\n",
      "Epoch 1/1\n",
      "2000/2000 [==============================] - 124s - loss: 0.0099 - acc: 0.9885 - val_loss: 0.0072 - val_acc: 0.9900\n",
      "Epoch 1/1\n",
      "2000/2000 [==============================] - 125s - loss: 0.0099 - acc: 0.9875 - val_loss: 0.0034 - val_acc: 0.9975\n",
      "Epoch 1/1\n",
      "2000/2000 [==============================] - 124s - loss: 0.0097 - acc: 0.9875 - val_loss: 0.0082 - val_acc: 0.9876\n",
      "Epoch 1/1\n",
      "2000/2000 [==============================] - 125s - loss: 0.0077 - acc: 0.9905 - val_loss: 0.0059 - val_acc: 0.9925\n",
      "Epoch 1/1\n",
      "2000/2000 [==============================] - 124s - loss: 0.0091 - acc: 0.9885 - val_loss: 0.0068 - val_acc: 0.9900\n",
      "Epoch 1/1\n",
      "2000/2000 [==============================] - 144s - loss: 0.0109 - acc: 0.9835 - val_loss: 0.0061 - val_acc: 0.9938\n",
      "Epoch 1/1\n",
      "2000/2000 [==============================] - 147s - loss: 0.0104 - acc: 0.9865 - val_loss: 0.0073 - val_acc: 0.9925\n",
      "Epoch 1/1\n",
      "2000/2000 [==============================] - 147s - loss: 0.0088 - acc: 0.9895 - val_loss: 0.0052 - val_acc: 0.9950\n",
      "Epoch 1/1\n",
      "2000/2000 [==============================] - 147s - loss: 0.0061 - acc: 0.9925 - val_loss: 0.0054 - val_acc: 0.9925\n",
      "Epoch 1/1\n",
      "2000/2000 [==============================] - 148s - loss: 0.0095 - acc: 0.9885 - val_loss: 0.0066 - val_acc: 0.9925\n",
      "Epoch 1/1\n",
      "2000/2000 [==============================] - 148s - loss: 0.0066 - acc: 0.9920 - val_loss: 0.0043 - val_acc: 0.9938\n",
      "Epoch 1/1\n",
      "2000/2000 [==============================] - 149s - loss: 0.0075 - acc: 0.9915 - val_loss: 0.0051 - val_acc: 0.9925\n",
      "Epoch 1/1\n",
      "2000/2000 [==============================] - 149s - loss: 0.0071 - acc: 0.9930 - val_loss: 0.0054 - val_acc: 0.9925\n",
      "Epoch 1/1\n",
      "2000/2000 [==============================] - 150s - loss: 0.0067 - acc: 0.9915 - val_loss: 0.0047 - val_acc: 0.9938\n",
      "Epoch 1/1\n",
      "2000/2000 [==============================] - 151s - loss: 0.0092 - acc: 0.9885 - val_loss: 0.0040 - val_acc: 0.9975\n",
      "Epoch 1/1\n",
      "2000/2000 [==============================] - 157s - loss: 0.0076 - acc: 0.9910 - val_loss: 0.0062 - val_acc: 0.9925\n",
      "Epoch 1/1\n",
      "2000/2000 [==============================] - 157s - loss: 0.0086 - acc: 0.9900 - val_loss: 0.0040 - val_acc: 0.9950\n",
      "Epoch 1/1\n",
      "2000/2000 [==============================] - 157s - loss: 0.0085 - acc: 0.9900 - val_loss: 0.0057 - val_acc: 0.9925\n",
      "Epoch 1/1\n",
      "2000/2000 [==============================] - 157s - loss: 0.0078 - acc: 0.9895 - val_loss: 0.0041 - val_acc: 0.9938\n",
      "Epoch 1/1\n",
      "2000/2000 [==============================] - 158s - loss: 0.0069 - acc: 0.9945 - val_loss: 0.0030 - val_acc: 0.9975\n",
      "Epoch 1/1\n",
      "2000/2000 [==============================] - 182s - loss: 0.0067 - acc: 0.9930 - val_loss: 0.0083 - val_acc: 0.9888\n",
      "Epoch 1/1\n",
      "2000/2000 [==============================] - 188s - loss: 0.0079 - acc: 0.9910 - val_loss: 0.0032 - val_acc: 0.9962\n",
      "Epoch 1/1\n",
      "2000/2000 [==============================] - 187s - loss: 0.0072 - acc: 0.9905 - val_loss: 0.0034 - val_acc: 0.9938\n",
      "Epoch 1/1\n",
      "2000/2000 [==============================] - 187s - loss: 0.0072 - acc: 0.9910 - val_loss: 0.0065 - val_acc: 0.9912\n",
      "Epoch 1/1\n",
      "2000/2000 [==============================] - 192s - loss: 0.0083 - acc: 0.9910 - val_loss: 0.0091 - val_acc: 0.9876\n",
      "Epoch 1/1\n",
      "2000/2000 [==============================] - 196s - loss: 0.0045 - acc: 0.9960 - val_loss: 0.0034 - val_acc: 0.9963\n",
      "Epoch 1/1\n",
      "2000/2000 [==============================] - 211s - loss: 0.0094 - acc: 0.9870 - val_loss: 0.0036 - val_acc: 0.9950\n",
      "Epoch 1/1\n",
      "2000/2000 [==============================] - 220s - loss: 0.0062 - acc: 0.9925 - val_loss: 0.0039 - val_acc: 0.9950\n",
      "Epoch 1/1\n",
      "2000/2000 [==============================] - 200s - loss: 0.0063 - acc: 0.9930 - val_loss: 0.0069 - val_acc: 0.9913\n",
      "Epoch 1/1\n",
      "2000/2000 [==============================] - 201s - loss: 0.0085 - acc: 0.9895 - val_loss: 0.0056 - val_acc: 0.9925\n",
      "Epoch 1/1\n",
      "2000/2000 [==============================] - 190s - loss: 0.0061 - acc: 0.9925 - val_loss: 0.0048 - val_acc: 0.9938\n",
      "Epoch 1/1\n",
      "2000/2000 [==============================] - 174s - loss: 0.0078 - acc: 0.9915 - val_loss: 0.0059 - val_acc: 0.9925\n",
      "Epoch 1/1\n",
      "2000/2000 [==============================] - 174s - loss: 0.0068 - acc: 0.9915 - val_loss: 0.0062 - val_acc: 0.9925\n",
      "Epoch 1/1\n",
      "2000/2000 [==============================] - 171s - loss: 0.0082 - acc: 0.9915 - val_loss: 0.0051 - val_acc: 0.9925\n",
      "Epoch 1/1\n",
      "2000/2000 [==============================] - 188s - loss: 0.0066 - acc: 0.9930 - val_loss: 0.0049 - val_acc: 0.9938\n",
      "Epoch 1/1\n",
      "2000/2000 [==============================] - 194s - loss: 0.0069 - acc: 0.9905 - val_loss: 0.0109 - val_acc: 0.9851\n",
      "Epoch 1/1\n",
      "2000/2000 [==============================] - 195s - loss: 0.0105 - acc: 0.9865 - val_loss: 0.0046 - val_acc: 0.9938\n",
      "Epoch 1/1\n",
      "2000/2000 [==============================] - 200s - loss: 0.0079 - acc: 0.9915 - val_loss: 0.0067 - val_acc: 0.9913\n",
      "Epoch 1/1\n",
      "2000/2000 [==============================] - 201s - loss: 0.0083 - acc: 0.9910 - val_loss: 0.0066 - val_acc: 0.9938\n",
      "Epoch 1/1\n",
      "2000/2000 [==============================] - 199s - loss: 0.0048 - acc: 0.9950 - val_loss: 0.0071 - val_acc: 0.9912\n",
      "Epoch 1/1\n",
      "2000/2000 [==============================] - 201s - loss: 0.0053 - acc: 0.9945 - val_loss: 0.0056 - val_acc: 0.9925\n",
      "Epoch 1/1\n",
      "2000/2000 [==============================] - 207s - loss: 0.0073 - acc: 0.9915 - val_loss: 0.0058 - val_acc: 0.9938\n",
      "Epoch 1/1\n",
      "2000/2000 [==============================] - 212s - loss: 0.0050 - acc: 0.9940 - val_loss: 0.0061 - val_acc: 0.9925\n",
      "Epoch 1/1\n",
      "2000/2000 [==============================] - 207s - loss: 0.0072 - acc: 0.9910 - val_loss: 0.0058 - val_acc: 0.9913\n",
      "Epoch 1/1\n",
      "2000/2000 [==============================] - 198s - loss: 0.0076 - acc: 0.9920 - val_loss: 0.0026 - val_acc: 0.9962\n",
      "Epoch 1/1\n",
      "2000/2000 [==============================] - 235s - loss: 0.0059 - acc: 0.9935 - val_loss: 0.0086 - val_acc: 0.9876\n",
      "Epoch 1/1\n",
      "2000/2000 [==============================] - 240s - loss: 0.0066 - acc: 0.9930 - val_loss: 0.0042 - val_acc: 0.9950\n",
      "Epoch 1/1\n",
      "2000/2000 [==============================] - 229s - loss: 0.0071 - acc: 0.9895 - val_loss: 0.0064 - val_acc: 0.9912\n",
      "Epoch 1/1\n",
      "2000/2000 [==============================] - 231s - loss: 0.0074 - acc: 0.9915 - val_loss: 0.0058 - val_acc: 0.9900\n",
      "Epoch 1/1\n",
      "2000/2000 [==============================] - 229s - loss: 0.0074 - acc: 0.9905 - val_loss: 0.0052 - val_acc: 0.9938\n",
      "Epoch 1/1\n"
     ]
    },
    {
     "name": "stdout",
     "output_type": "stream",
     "text": [
      "2000/2000 [==============================] - 231s - loss: 0.0045 - acc: 0.9955 - val_loss: 0.0071 - val_acc: 0.9900\n",
      "Epoch 1/1\n",
      "2000/2000 [==============================] - 243s - loss: 0.0078 - acc: 0.9915 - val_loss: 0.0032 - val_acc: 0.9963\n",
      "Epoch 1/1\n",
      "2000/2000 [==============================] - 225s - loss: 0.0051 - acc: 0.9945 - val_loss: 0.0066 - val_acc: 0.9912\n",
      "Epoch 1/1\n",
      "2000/2000 [==============================] - 222s - loss: 0.0089 - acc: 0.9885 - val_loss: 0.0066 - val_acc: 0.9925\n",
      "Epoch 1/1\n",
      "2000/2000 [==============================] - 215s - loss: 0.0058 - acc: 0.9935 - val_loss: 0.0060 - val_acc: 0.9938\n",
      "Epoch 1/1\n",
      "2000/2000 [==============================] - 251s - loss: 0.0049 - acc: 0.9955 - val_loss: 0.0136 - val_acc: 0.9838\n",
      "Epoch 1/1\n",
      "2000/2000 [==============================] - 269s - loss: 0.0068 - acc: 0.9915 - val_loss: 0.0043 - val_acc: 0.9950\n",
      "Epoch 1/1\n",
      "2000/2000 [==============================] - 277s - loss: 0.0035 - acc: 0.9965 - val_loss: 0.0063 - val_acc: 0.9912\n",
      "Epoch 1/1\n",
      "2000/2000 [==============================] - 277s - loss: 0.0076 - acc: 0.9895 - val_loss: 0.0087 - val_acc: 0.9851\n",
      "Epoch 1/1\n",
      "2000/2000 [==============================] - 269s - loss: 0.0062 - acc: 0.9925 - val_loss: 0.0055 - val_acc: 0.9925\n",
      "Epoch 1/1\n",
      "2000/2000 [==============================] - 278s - loss: 0.0050 - acc: 0.9935 - val_loss: 0.0068 - val_acc: 0.9900\n",
      "Epoch 1/1\n",
      "2000/2000 [==============================] - 286s - loss: 0.0061 - acc: 0.9920 - val_loss: 0.0059 - val_acc: 0.9925\n",
      "Epoch 1/1\n",
      "2000/2000 [==============================] - 267s - loss: 0.0049 - acc: 0.9945 - val_loss: 0.0044 - val_acc: 0.9925\n",
      "Epoch 1/1\n",
      "2000/2000 [==============================] - 258s - loss: 0.0107 - acc: 0.9845 - val_loss: 0.0112 - val_acc: 0.9826\n",
      "Epoch 1/1\n",
      "2000/2000 [==============================] - 253s - loss: 0.0063 - acc: 0.9925 - val_loss: 0.0061 - val_acc: 0.9900\n"
     ]
    }
   ],
   "source": [
    "layers = ['dense_3_new','dense_2','dense_1','conv_5_1','conv_4_1','conv_3','conv_2_1','conv_1']\n",
    "epochs = [10,10,10,10,10,10,10,10]\n",
    "#epochs = [10]\n",
    "lr = [1e-2,1e-3,1e-3,1e-3,1e-3,1e-3,1e-3,1e-3]\n",
    "\n",
    "history_finetune = []\n",
    "\n",
    "for i,layer in enumerate(layers):\n",
    "        \n",
    "    alexnet = unfreeze_layer_onwards(alexnet,layer)    \n",
    "   \n",
    "    sgd = SGD(lr=lr[i], decay=1e-6, momentum=0.9, nesterov=True)\n",
    "    alexnet.compile(loss='mse',\n",
    "              optimizer=sgd,\n",
    "              metrics=['accuracy'])\n",
    "    \n",
    "    for epoch in range(epochs[i]):    \n",
    "        h = alexnet.fit_generator(train_generator,\n",
    "                                        samples_per_epoch=2000,\n",
    "                                        validation_data=validation_generator,\n",
    "                                        nb_val_samples=800,\n",
    "                                        nb_epoch=1,\n",
    "                                        verbose=1)\n",
    "        a = \"logs/checkpoint-\"+str(epoch)+\".h5\"\n",
    "        alexnet.save(a)\n",
    "        \n",
    "        \n",
    "        history_finetune = append_history(history_finetune,h)\n",
    "alexnet.save(\"logs/final-model.h5\")"
   ]
  },
  {
   "cell_type": "code",
   "execution_count": 39,
   "metadata": {},
   "outputs": [
    {
     "data": {
      "image/png": "[encoded data removed]",
      "text/plain": [
       "<matplotlib.figure.Figure at 0x7f81ef36aad0>"
      ]
     },
     "metadata": {},
     "output_type": "display_data"
    }
   ],
   "source": [
    "plot_performance(history_finetune)"
   ]
  },
  {
   "cell_type": "code",
   "execution_count": 22,
   "metadata": {
    "scrolled": false
   },
   "outputs": [
    {
     "name": "stdout",
     "output_type": "stream",
     "text": [
      "Found 1332 images belonging to 2 classes.\n"
     ]
    }
   ],
   "source": [
    "alexnet = get_alexnet(input_size,nb_classes,mean_flag)\n",
    "alexnet.load_weights('../convnets-keras/weights/checkpoint-9.h5', by_name=True)\n",
    "\n",
    "test_generator = test_datagen.flow_from_directory(\n",
    "        '../DATA/Test',  \n",
    "        batch_size=100,\n",
    "        target_size=input_size[1:],\n",
    "        shuffle=False,\n",
    "        class_mode='binary')\n",
    "prob=alexnet.predict_generator(test_generator,1332)"
   ]
  },
  {
   "cell_type": "markdown",
   "metadata": {},
   "source": [
    "# Plotting performance metrics"
   ]
  },
  {
   "cell_type": "code",
   "execution_count": 23,
   "metadata": {},
   "outputs": [
    {
     "name": "stdout",
     "output_type": "stream",
     "text": [
      "             precision    recall  f1-score   support\n",
      "\n",
      "    class 0       0.97      0.99      0.98       666\n",
      "    class 1       0.99      0.97      0.98       666\n",
      "\n",
      "avg / total       0.98      0.98      0.98      1332\n",
      "\n",
      "[[662   4]\n",
      " [ 20 646]]\n",
      "0.981981981982\n"
     ]
    }
   ],
   "source": [
    "from sklearn.metrics import confusion_matrix\n",
    "from sklearn.metrics import classification_report\n",
    "from sklearn.metrics import accuracy_score\n",
    "from sklearn.preprocessing import label_binarize\n",
    "import numpy as np\n",
    "y_pred=prob>0.5\n",
    "y_pred = np.argmax(prob, axis=1)\n",
    "y_true=np.array([0]*666+ [1]*666)\n",
    "target_names = ['class 0', 'class 1']\n",
    "print(classification_report(y_true, y_pred, target_names=target_names))\n",
    "print(confusion_matrix(y_true, y_pred))\n",
    "print(accuracy_score(y_true, y_pred))"
   ]
  },
  {
   "cell_type": "code",
   "execution_count": 20,
   "metadata": {
    "collapsed": true
   },
   "outputs": [],
   "source": [
    "# alexnet.get_layer('dense_3_new').output\n",
    "# alexnet_convolutional_only = Model(input=alexnet.input, output=alexnet.get_layer('convpool_5').output)\n",
    "cm=confusion_matrix(y_true, y_pred)\n",
    "class_names=['Non-Vehicle','Vehicle']"
   ]
  },
  {
   "cell_type": "markdown",
   "metadata": {},
   "source": [
    "# Confusion Matrix"
   ]
  },
  {
   "cell_type": "code",
   "execution_count": 27,
   "metadata": {},
   "outputs": [
    {
     "name": "stdout",
     "output_type": "stream",
     "text": [
      "Confusion matrix, without normalization\n",
      "[[662   4]\n",
      " [ 20 646]]\n"
     ]
    },
    {
     "data": {
      "image/png": "[encoded data removed]",
      "text/plain": [
       "<matplotlib.figure.Figure at 0x7f82075890d0>"
      ]
     },
     "metadata": {},
     "output_type": "display_data"
    }
   ],
   "source": [
    "import itertools\n",
    "import numpy as np\n",
    "import matplotlib.pyplot as plt\n",
    "\n",
    "from sklearn import svm, datasets\n",
    "from sklearn.model_selection import train_test_split\n",
    "from sklearn.metrics import confusion_matrix\n",
    "def plot_confusion_matrix(cm, classes,\n",
    "                          normalize=False,\n",
    "                          title='Confusion matrix',\n",
    "                          cmap=plt.cm.Reds):\n",
    "    \"\"\"\n",
    "    This function prints and plots the confusion matrix.\n",
    "    Normalization can be applied by setting `normalize=True`.\n",
    "    \"\"\"\n",
    "    if normalize:\n",
    "        cm = cm.astype('float') / cm.sum(axis=1)[:, np.newaxis]\n",
    "        print(\"Normalized confusion matrix\")\n",
    "    else:\n",
    "        print('Confusion matrix, without normalization')\n",
    "\n",
    "    print(cm)\n",
    "    fig = plt.figure()\n",
    "    plt.imshow(cm, interpolation='nearest', cmap=cmap)\n",
    "    plt.title(title)\n",
    "    plt.colorbar()\n",
    "    tick_marks = np.arange(len(classes))\n",
    "    plt.xticks(tick_marks, classes, rotation=45)\n",
    "    plt.yticks(tick_marks, classes)\n",
    "\n",
    "    fmt = '.2f' if normalize else 'd'\n",
    "    thresh = cm.max() / 2.\n",
    "    for i, j in itertools.product(range(cm.shape[0]), range(cm.shape[1])):\n",
    "        plt.text(j, i, format(cm[i, j], fmt),\n",
    "                 horizontalalignment=\"center\",\n",
    "                 color=\"white\" if cm[i, j] > thresh else \"black\")\n",
    "\n",
    "    plt.tight_layout()\n",
    "    plt.ylabel('True label')\n",
    "    plt.xlabel('Predicted label')\n",
    "    fig.savefig('plot.png')\n",
    "plot_confusion_matrix(cm, classes=class_names,\n",
    "                      title='Confusion matrix, without normalization')\n",
    "plt.show()\n",
    "\n",
    "\n"
   ]
  },
  {
   "cell_type": "code",
   "execution_count": null,
   "metadata": {
    "collapsed": true
   },
   "outputs": [],
   "source": []
  }
 ],
 "metadata": {
  "kernelspec": {
   "display_name": "Python 2",
   "language": "python",
   "name": "python2"
  },
  "language_info": {
   "codemirror_mode": {
    "name": "ipython",
    "version": 2
   },
   "file_extension": ".py",
   "mimetype": "text/x-python",
   "name": "python",
   "nbconvert_exporter": "python",
   "pygments_lexer": "ipython2",
   "version": "2.7.13"
  }
 },
 "nbformat": 4,
 "nbformat_minor": 2
}
