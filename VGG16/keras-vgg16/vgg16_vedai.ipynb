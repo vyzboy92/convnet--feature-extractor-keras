{
 "cells": [
  {
   "cell_type": "markdown",
   "metadata": {},
   "source": [
    "# VGG-16 for image classification"
   ]
  },
  {
   "cell_type": "code",
   "execution_count": 1,
   "metadata": {},
   "outputs": [
    {
     "name": "stderr",
     "output_type": "stream",
     "text": [
      "Using Theano backend.\n"
     ]
    }
   ],
   "source": [
    "from keras.preprocessing.image import ImageDataGenerator\n",
    "img_width, img_height = 224, 224\n",
    "\n",
    "train_data_dir = 'DATA_1/Train'\n",
    "validation_data_dir = 'DATA_1/Test'\n",
    "\n",
    "test_datagen = ImageDataGenerator(\n",
    "        shear_range=0.2,\n",
    "        zoom_range=0.2,\n",
    "        horizontal_flip=True)\n",
    "                                  a\n",
    "\n",
    "train_datagen = ImageDataGenerator(\n",
    "        shear_range=0.2,\n",
    "        zoom_range=0.2,\n",
    "        horizontal_flip=True)\n",
    "\n",
    "\n",
    "train_generator = train_datagen.flow_from_directory(\n",
    "        train_data_dir,\n",
    "        target_size=(img_width, img_height),\n",
    "        batch_size=32,\n",
    "        class_mode='categorical',\n",
    "        shuffle=True)\n",
    "\n",
    "validation_generator = test_datagen.flow_from_directory(\n",
    "        validation_data_dir,\n",
    "        target_size=(img_width, img_height),\n",
    "        batch_size=32,\n",
    "        class_mode='categorical',\n",
    "        shuffle=True)"
   ]
  },
  {
   "cell_type": "markdown",
   "metadata": {},
   "source": [
    "# Model Architecture"
   ]
  },
  {
   "cell_type": "code",
   "execution_count": 2,
   "metadata": {
    "collapsed": true
   },
   "outputs": [],
   "source": [
    "import os\n",
    "import numpy as np\n",
    "from keras.preprocessing.image import ImageDataGenerator\n",
    "from keras.models import Sequential\n",
    "from keras.layers.convolutional import Convolution2D, MaxPooling2D, ZeroPadding2D\n",
    "from keras.layers import Activation, Dropout, Flatten, Dense\n",
    "\n",
    "\n",
    "model_vgg = Sequential()\n",
    "model_vgg.add(ZeroPadding2D((1,1),input_shape=(3,224,224)))\n",
    "model_vgg.add(Convolution2D(64, 3, 3, activation='relu', name='conv1_1'))\n",
    "model_vgg.add(ZeroPadding2D((1,1)))\n",
    "model_vgg.add(Convolution2D(64, 3, 3, activation='relu', name='conv1_2'))\n",
    "model_vgg.add(MaxPooling2D((2,2), strides=(2,2)))\n",
    "\n",
    "model_vgg.add(ZeroPadding2D((1,1)))\n",
    "model_vgg.add(Convolution2D(128, 3, 3, activation='relu', name='conv2_1'))\n",
    "model_vgg.add(ZeroPadding2D((1,1)))\n",
    "model_vgg.add(Convolution2D(128, 3, 3, activation='relu', name='conv2_2'))\n",
    "model_vgg.add(MaxPooling2D((2,2), strides=(2,2)))\n",
    "\n",
    "model_vgg.add(ZeroPadding2D((1,1)))\n",
    "model_vgg.add(Convolution2D(256, 3, 3, activation='relu', name='conv3_1'))\n",
    "model_vgg.add(ZeroPadding2D((1,1)))\n",
    "model_vgg.add(Convolution2D(256, 3, 3, activation='relu', name='conv3_2'))\n",
    "model_vgg.add(ZeroPadding2D((1,1)))\n",
    "model_vgg.add(Convolution2D(256, 3, 3, activation='relu', name='conv3_3'))\n",
    "model_vgg.add(MaxPooling2D((2,2), strides=(2,2)))\n",
    "\n",
    "model_vgg.add(ZeroPadding2D((1,1)))\n",
    "model_vgg.add(Convolution2D(512, 3, 3, activation='relu', name='conv4_1'))\n",
    "model_vgg.add(ZeroPadding2D((1,1)))\n",
    "model_vgg.add(Convolution2D(512, 3, 3, activation='relu', name='conv4_2'))\n",
    "model_vgg.add(ZeroPadding2D((1,1)))\n",
    "model_vgg.add(Convolution2D(512, 3, 3, activation='relu', name='conv4_3'))\n",
    "model_vgg.add(MaxPooling2D((2,2), strides=(2,2)))\n",
    "\n",
    "model_vgg.add(ZeroPadding2D((1,1)))\n",
    "model_vgg.add(Convolution2D(512, 3, 3, activation='relu', name='conv5_1'))\n",
    "model_vgg.add(ZeroPadding2D((1,1)))\n",
    "model_vgg.add(Convolution2D(512, 3, 3, activation='relu', name='conv5_2'))\n",
    "model_vgg.add(ZeroPadding2D((1,1)))\n",
    "model_vgg.add(Convolution2D(512, 3, 3, activation='relu', name='conv5_3'))\n",
    "model_vgg.add(MaxPooling2D((2,2), strides=(2,2)))\n",
    "\n",
    "model_vgg.add(Flatten(name=\"flatten\"))\n",
    "model_vgg.add(Dense(4096, activation='relu', name='dense_1'))\n",
    "model_vgg.add(Dropout(0.5))\n",
    "model_vgg.add(Dense(4096, activation='relu', name='dense_2'))\n",
    "model_vgg.add(Dropout(0.5))\n",
    "model_vgg.add(Dense(2, name='dense_3'))\n",
    "model_vgg.add(Activation(\"softmax\",name=\"softmax\"))"
   ]
  },
  {
   "cell_type": "code",
   "execution_count": 3,
   "metadata": {},
   "outputs": [
    {
     "name": "stdout",
     "output_type": "stream",
     "text": [
      "____________________________________________________________________________________________________\n",
      "Layer (type)                     Output Shape          Param #     Connected to                     \n",
      "====================================================================================================\n",
      "zeropadding2d_1 (ZeroPadding2D)  (None, 3, 226, 226)   0           zeropadding2d_input_1[0][0]      \n",
      "____________________________________________________________________________________________________\n",
      "conv1_1 (Convolution2D)          (None, 64, 224, 224)  1792        zeropadding2d_1[0][0]            \n",
      "____________________________________________________________________________________________________\n",
      "zeropadding2d_2 (ZeroPadding2D)  (None, 64, 226, 226)  0           conv1_1[0][0]                    \n",
      "____________________________________________________________________________________________________\n",
      "conv1_2 (Convolution2D)          (None, 64, 224, 224)  36928       zeropadding2d_2[0][0]            \n",
      "____________________________________________________________________________________________________\n",
      "maxpooling2d_1 (MaxPooling2D)    (None, 64, 112, 112)  0           conv1_2[0][0]                    \n",
      "____________________________________________________________________________________________________\n",
      "zeropadding2d_3 (ZeroPadding2D)  (None, 64, 114, 114)  0           maxpooling2d_1[0][0]             \n",
      "____________________________________________________________________________________________________\n",
      "conv2_1 (Convolution2D)          (None, 128, 112, 112) 73856       zeropadding2d_3[0][0]            \n",
      "____________________________________________________________________________________________________\n",
      "zeropadding2d_4 (ZeroPadding2D)  (None, 128, 114, 114) 0           conv2_1[0][0]                    \n",
      "____________________________________________________________________________________________________\n",
      "conv2_2 (Convolution2D)          (None, 128, 112, 112) 147584      zeropadding2d_4[0][0]            \n",
      "____________________________________________________________________________________________________\n",
      "maxpooling2d_2 (MaxPooling2D)    (None, 128, 56, 56)   0           conv2_2[0][0]                    \n",
      "____________________________________________________________________________________________________\n",
      "zeropadding2d_5 (ZeroPadding2D)  (None, 128, 58, 58)   0           maxpooling2d_2[0][0]             \n",
      "____________________________________________________________________________________________________\n",
      "conv3_1 (Convolution2D)          (None, 256, 56, 56)   295168      zeropadding2d_5[0][0]            \n",
      "____________________________________________________________________________________________________\n",
      "zeropadding2d_6 (ZeroPadding2D)  (None, 256, 58, 58)   0           conv3_1[0][0]                    \n",
      "____________________________________________________________________________________________________\n",
      "conv3_2 (Convolution2D)          (None, 256, 56, 56)   590080      zeropadding2d_6[0][0]            \n",
      "____________________________________________________________________________________________________\n",
      "zeropadding2d_7 (ZeroPadding2D)  (None, 256, 58, 58)   0           conv3_2[0][0]                    \n",
      "____________________________________________________________________________________________________\n",
      "conv3_3 (Convolution2D)          (None, 256, 56, 56)   590080      zeropadding2d_7[0][0]            \n",
      "____________________________________________________________________________________________________\n",
      "maxpooling2d_3 (MaxPooling2D)    (None, 256, 28, 28)   0           conv3_3[0][0]                    \n",
      "____________________________________________________________________________________________________\n",
      "zeropadding2d_8 (ZeroPadding2D)  (None, 256, 30, 30)   0           maxpooling2d_3[0][0]             \n",
      "____________________________________________________________________________________________________\n",
      "conv4_1 (Convolution2D)          (None, 512, 28, 28)   1180160     zeropadding2d_8[0][0]            \n",
      "____________________________________________________________________________________________________\n",
      "zeropadding2d_9 (ZeroPadding2D)  (None, 512, 30, 30)   0           conv4_1[0][0]                    \n",
      "____________________________________________________________________________________________________\n",
      "conv4_2 (Convolution2D)          (None, 512, 28, 28)   2359808     zeropadding2d_9[0][0]            \n",
      "____________________________________________________________________________________________________\n",
      "zeropadding2d_10 (ZeroPadding2D) (None, 512, 30, 30)   0           conv4_2[0][0]                    \n",
      "____________________________________________________________________________________________________\n",
      "conv4_3 (Convolution2D)          (None, 512, 28, 28)   2359808     zeropadding2d_10[0][0]           \n",
      "____________________________________________________________________________________________________\n",
      "maxpooling2d_4 (MaxPooling2D)    (None, 512, 14, 14)   0           conv4_3[0][0]                    \n",
      "____________________________________________________________________________________________________\n",
      "zeropadding2d_11 (ZeroPadding2D) (None, 512, 16, 16)   0           maxpooling2d_4[0][0]             \n",
      "____________________________________________________________________________________________________\n",
      "conv5_1 (Convolution2D)          (None, 512, 14, 14)   2359808     zeropadding2d_11[0][0]           \n",
      "____________________________________________________________________________________________________\n",
      "zeropadding2d_12 (ZeroPadding2D) (None, 512, 16, 16)   0           conv5_1[0][0]                    \n",
      "____________________________________________________________________________________________________\n",
      "conv5_2 (Convolution2D)          (None, 512, 14, 14)   2359808     zeropadding2d_12[0][0]           \n",
      "____________________________________________________________________________________________________\n",
      "zeropadding2d_13 (ZeroPadding2D) (None, 512, 16, 16)   0           conv5_2[0][0]                    \n",
      "____________________________________________________________________________________________________\n",
      "conv5_3 (Convolution2D)          (None, 512, 14, 14)   2359808     zeropadding2d_13[0][0]           \n",
      "____________________________________________________________________________________________________\n",
      "maxpooling2d_5 (MaxPooling2D)    (None, 512, 7, 7)     0           conv5_3[0][0]                    \n",
      "____________________________________________________________________________________________________\n",
      "flatten (Flatten)                (None, 25088)         0           maxpooling2d_5[0][0]             \n",
      "____________________________________________________________________________________________________\n",
      "dense_1 (Dense)                  (None, 4096)          102764544   flatten[0][0]                    \n",
      "____________________________________________________________________________________________________\n",
      "dropout_1 (Dropout)              (None, 4096)          0           dense_1[0][0]                    \n",
      "____________________________________________________________________________________________________\n",
      "dense_2 (Dense)                  (None, 4096)          16781312    dropout_1[0][0]                  \n",
      "____________________________________________________________________________________________________\n",
      "dropout_2 (Dropout)              (None, 4096)          0           dense_2[0][0]                    \n",
      "____________________________________________________________________________________________________\n",
      "dense_3 (Dense)                  (None, 2)             8194        dropout_2[0][0]                  \n",
      "____________________________________________________________________________________________________\n",
      "softmax (Activation)             (None, 2)             0           dense_3[0][0]                    \n",
      "====================================================================================================\n",
      "Total params: 134,268,738\n",
      "Trainable params: 134,268,738\n",
      "Non-trainable params: 0\n",
      "____________________________________________________________________________________________________\n",
      "None\n"
     ]
    }
   ],
   "source": [
    "print model_vgg.summary()"
   ]
  },
  {
   "cell_type": "code",
   "execution_count": 4,
   "metadata": {},
   "outputs": [
    {
     "name": "stderr",
     "output_type": "stream",
     "text": [
      "/home/naveen/anaconda2/envs/keras_theano/lib/python2.7/site-packages/theano/tensor/basic.py:2146: UserWarning: theano.tensor.round() changed its default from `half_away_from_zero` to `half_to_even` to have the same default as NumPy. Use the Theano flag `warn.round=False` to disable this warning.\n",
      "  \"theano.tensor.round() changed its default from\"\n"
     ]
    }
   ],
   "source": [
    "model_vgg.compile(loss='binary_crossentropy',\n",
    "              optimizer='SGD',\n",
    "              metrics=['accuracy'])\n",
    "nb_epoch = 50\n",
    "nb_train_samples = 5312\n",
    "nb_validation_samples = 1332"
   ]
  },
  {
   "cell_type": "markdown",
   "metadata": {},
   "source": [
    "# Trainig the model"
   ]
  },
  {
   "cell_type": "code",
   "execution_count": 5,
   "metadata": {},
   "outputs": [
    {
     "name": "stdout",
     "output_type": "stream",
     "text": [
      "Epoch 1/50\n",
      "5312/5312 [==============================] - 3910s - loss: 0.6808 - acc: 0.6178 - val_loss: 0.6440 - val_acc: 0.6719\n",
      "Epoch 2/50\n",
      "5312/5312 [==============================] - 3932s - loss: 0.6400 - acc: 0.6583 - val_loss: 0.6793 - val_acc: 0.5113\n",
      "Epoch 3/50\n",
      "5312/5312 [==============================] - 3970s - loss: 0.6719 - acc: 0.5847 - val_loss: 0.6230 - val_acc: 0.7312\n",
      "Epoch 4/50\n",
      "5312/5312 [==============================] - 3962s - loss: 0.6521 - acc: 0.6555 - val_loss: 0.6211 - val_acc: 0.6674\n",
      "Epoch 5/50\n",
      "5312/5312 [==============================] - 4409s - loss: 0.6435 - acc: 0.6455 - val_loss: 0.6316 - val_acc: 0.6764\n",
      "Epoch 6/50\n",
      "5312/5312 [==============================] - 5367s - loss: 0.6062 - acc: 0.6943 - val_loss: 0.3948 - val_acc: 0.8423\n",
      "Epoch 7/50\n",
      "5312/5312 [==============================] - 4021s - loss: 0.5953 - acc: 0.7142 - val_loss: 0.5321 - val_acc: 0.7320\n",
      "Epoch 8/50\n",
      "5312/5312 [==============================] - 4013s - loss: 0.5496 - acc: 0.7449 - val_loss: 0.3143 - val_acc: 0.8709\n",
      "Epoch 9/50\n",
      "5312/5312 [==============================] - 3976s - loss: 0.3945 - acc: 0.8415 - val_loss: 0.2090 - val_acc: 0.9212\n",
      "Epoch 10/50\n",
      "5312/5312 [==============================] - 3972s - loss: 0.3381 - acc: 0.8663 - val_loss: 0.2113 - val_acc: 0.9264\n",
      "Epoch 11/50\n",
      "5312/5312 [==============================] - 3952s - loss: 0.2988 - acc: 0.8820 - val_loss: 0.1992 - val_acc: 0.9279\n",
      "Epoch 12/50\n",
      "5312/5312 [==============================] - 3949s - loss: 0.3917 - acc: 0.8358 - val_loss: 0.1023 - val_acc: 0.9677\n",
      "Epoch 13/50\n",
      "5312/5312 [==============================] - 3952s - loss: 0.3013 - acc: 0.8780 - val_loss: 0.0839 - val_acc: 0.9715\n",
      "Epoch 14/50\n",
      "5312/5312 [==============================] - 3956s - loss: 0.2391 - acc: 0.9038 - val_loss: 0.0896 - val_acc: 0.9700\n",
      "Epoch 15/50\n",
      "5312/5312 [==============================] - 3960s - loss: 0.1751 - acc: 0.9345 - val_loss: 0.0833 - val_acc: 0.9707\n",
      "Epoch 16/50\n",
      "5312/5312 [==============================] - 3975s - loss: 0.2080 - acc: 0.9223 - val_loss: 0.0847 - val_acc: 0.9715\n",
      "Epoch 17/50\n",
      "5312/5312 [==============================] - 3955s - loss: 0.1866 - acc: 0.9271 - val_loss: 0.0600 - val_acc: 0.9797\n",
      "Epoch 18/50\n",
      "5312/5312 [==============================] - 3956s - loss: 0.1952 - acc: 0.9277 - val_loss: 0.0895 - val_acc: 0.9700\n",
      "Epoch 19/50\n",
      "5312/5312 [==============================] - 3964s - loss: 0.1629 - acc: 0.9431 - val_loss: 0.0735 - val_acc: 0.9805\n",
      "Epoch 20/50\n",
      "5312/5312 [==============================] - 3957s - loss: 0.1614 - acc: 0.9405 - val_loss: 0.0772 - val_acc: 0.9745\n",
      "Epoch 21/50\n",
      "5312/5312 [==============================] - 3975s - loss: 0.1454 - acc: 0.9448 - val_loss: 0.0700 - val_acc: 0.9797\n",
      "Epoch 22/50\n",
      "5312/5312 [==============================] - 3979s - loss: 0.1313 - acc: 0.9533 - val_loss: 0.0585 - val_acc: 0.9835\n",
      "Epoch 23/50\n",
      "5312/5312 [==============================] - 3991s - loss: 0.1403 - acc: 0.9492 - val_loss: 0.0572 - val_acc: 0.9805\n",
      "Epoch 24/50\n",
      "5312/5312 [==============================] - 3996s - loss: 0.1219 - acc: 0.9552 - val_loss: 0.0582 - val_acc: 0.9805\n",
      "Epoch 25/50\n",
      "5312/5312 [==============================] - 4005s - loss: 0.1292 - acc: 0.9561 - val_loss: 0.0612 - val_acc: 0.9790\n",
      "Epoch 26/50\n",
      "5312/5312 [==============================] - 4312s - loss: 0.1167 - acc: 0.9578 - val_loss: 0.0527 - val_acc: 0.9790\n",
      "Epoch 27/50\n",
      "5312/5312 [==============================] - 4543s - loss: 0.1084 - acc: 0.9618 - val_loss: 0.0482 - val_acc: 0.9805\n",
      "Epoch 28/50\n",
      "5312/5312 [==============================] - 6613s - loss: 0.1152 - acc: 0.9605 - val_loss: 0.0642 - val_acc: 0.9752\n",
      "Epoch 29/50\n",
      "5312/5312 [==============================] - 6569s - loss: 0.1000 - acc: 0.9639 - val_loss: 0.0573 - val_acc: 0.9820\n",
      "Epoch 30/50\n",
      "5312/5312 [==============================] - 6539s - loss: 0.1044 - acc: 0.9612 - val_loss: 0.0554 - val_acc: 0.9805\n",
      "Epoch 31/50\n",
      "5312/5312 [==============================] - 6578s - loss: 0.1533 - acc: 0.9398 - val_loss: 0.0678 - val_acc: 0.9790\n",
      "Epoch 32/50\n",
      "5312/5312 [==============================] - 6563s - loss: 0.1014 - acc: 0.9655 - val_loss: 0.0401 - val_acc: 0.9872\n",
      "Epoch 33/50\n",
      "5312/5312 [==============================] - 6559s - loss: 0.0951 - acc: 0.9672 - val_loss: 0.0643 - val_acc: 0.9805\n",
      "Epoch 34/50\n",
      "5312/5312 [==============================] - 6597s - loss: 0.1098 - acc: 0.9599 - val_loss: 0.0531 - val_acc: 0.9812\n",
      "Epoch 35/50\n",
      "5312/5312 [==============================] - 6583s - loss: 0.0967 - acc: 0.9657 - val_loss: 0.0507 - val_acc: 0.9805\n",
      "Epoch 36/50\n",
      "5312/5312 [==============================] - 6549s - loss: 0.0918 - acc: 0.9674 - val_loss: 0.0545 - val_acc: 0.9812\n",
      "Epoch 37/50\n",
      "5312/5312 [==============================] - 6616s - loss: 0.0868 - acc: 0.9655 - val_loss: 0.0662 - val_acc: 0.9790\n",
      "Epoch 38/50\n",
      "5312/5312 [==============================] - 6655s - loss: 0.0895 - acc: 0.9695 - val_loss: 0.0595 - val_acc: 0.9835\n",
      "Epoch 39/50\n",
      "5312/5312 [==============================] - 6631s - loss: 0.0839 - acc: 0.9708 - val_loss: 0.0433 - val_acc: 0.9887\n",
      "Epoch 40/50\n",
      "5312/5312 [==============================] - 6651s - loss: 0.0745 - acc: 0.9720 - val_loss: 0.0687 - val_acc: 0.9790\n",
      "Epoch 41/50\n",
      "5312/5312 [==============================] - 6605s - loss: 0.0775 - acc: 0.9742 - val_loss: 0.0462 - val_acc: 0.9842\n",
      "Epoch 42/50\n",
      "5312/5312 [==============================] - 6639s - loss: 0.0897 - acc: 0.9674 - val_loss: 0.0500 - val_acc: 0.9812\n",
      "Epoch 43/50\n",
      "5312/5312 [==============================] - 6629s - loss: 0.0764 - acc: 0.9731 - val_loss: 0.0472 - val_acc: 0.9857\n",
      "Epoch 44/50\n",
      "5312/5312 [==============================] - 6617s - loss: 0.0708 - acc: 0.9767 - val_loss: 0.0451 - val_acc: 0.9812\n",
      "Epoch 45/50\n",
      "5312/5312 [==============================] - 6605s - loss: 0.0669 - acc: 0.9774 - val_loss: 0.0667 - val_acc: 0.9820\n",
      "Epoch 46/50\n",
      "5312/5312 [==============================] - 6549s - loss: 0.0772 - acc: 0.9735 - val_loss: 0.0559 - val_acc: 0.9842\n",
      "Epoch 47/50\n",
      "5312/5312 [==============================] - 6557s - loss: 0.0620 - acc: 0.9802 - val_loss: 0.0489 - val_acc: 0.9842\n",
      "Epoch 48/50\n",
      "5312/5312 [==============================] - 5153s - loss: 0.0649 - acc: 0.9761 - val_loss: 0.0622 - val_acc: 0.9797\n",
      "Epoch 49/50\n",
      "5312/5312 [==============================] - 4012s - loss: 0.0642 - acc: 0.9785 - val_loss: 0.0481 - val_acc: 0.9850\n",
      "Epoch 50/50\n",
      "5312/5312 [==============================] - 4025s - loss: 0.0652 - acc: 0.9755 - val_loss: 0.0719 - val_acc: 0.9775\n"
     ]
    }
   ],
   "source": [
    "model_vgg.fit_generator(\n",
    "        train_generator,\n",
    "        samples_per_epoch=nb_train_samples,\n",
    "        nb_epoch=nb_epoch,\n",
    "        validation_data=validation_generator,\n",
    "        nb_val_samples=nb_validation_samples)\n",
    "model_vgg.save('/home/naveen/final-model.h5', model_vgg)"
   ]
  },
  {
   "cell_type": "markdown",
   "metadata": {},
   "source": [
    "# Testing the model"
   ]
  },
  {
   "cell_type": "code",
   "execution_count": 6,
   "metadata": {},
   "outputs": [
    {
     "name": "stdout",
     "output_type": "stream",
     "text": [
      "Found 1332 images belonging to 2 classes.\n"
     ]
    }
   ],
   "source": [
    "model_vgg.load_weights('/home/vysakh/My Files/Mini Project/VGG16/keras-workshop-master/models/vgg16/final-model.h5', by_name=True)\n",
    "\n",
    "\n",
    "test_datagen = ImageDataGenerator(\n",
    "        shear_range=0.2,\n",
    "        zoom_range=0.2,\n",
    "        horizontal_flip=True)\n",
    "\n",
    "test_generator = test_datagen.flow_from_directory(\n",
    "        'DATA_1/Test',  \n",
    "         target_size=(img_width, img_height),\n",
    "         batch_size=32,\n",
    "         shuffle=False,\n",
    "         class_mode='binary')\n",
    "prob=model_vgg.predict_generator(test_generator,1332)"
   ]
  },
  {
   "cell_type": "markdown",
   "metadata": {},
   "source": [
    "# Plot performance metrics"
   ]
  },
  {
   "cell_type": "code",
   "execution_count": 7,
   "metadata": {},
   "outputs": [
    {
     "name": "stdout",
     "output_type": "stream",
     "text": [
      "             precision    recall  f1-score   support\n",
      "\n",
      "    class 0       0.99      0.97      0.98       666\n",
      "    class 1       0.97      0.99      0.98       666\n",
      "\n",
      "avg / total       0.98      0.98      0.98      1332\n",
      "\n",
      "[[647  19]\n",
      " [  6 660]]\n",
      "0.981231231231\n"
     ]
    }
   ],
   "source": [
    "from sklearn.metrics import confusion_matrix\n",
    "from sklearn.metrics import classification_report\n",
    "from sklearn.metrics import accuracy_score\n",
    "from sklearn.preprocessing import label_binarize\n",
    "import numpy as np\n",
    "y_pred=prob>0.5\n",
    "y_pred = np.argmax(prob, axis=1)\n",
    "y_true=np.array([0]*666+ [1]*666)\n",
    "target_names = ['class 0', 'class 1']\n",
    "print(classification_report(y_true, y_pred, target_names=target_names))\n",
    "print(confusion_matrix(y_true, y_pred))\n",
    "print(accuracy_score(y_true, y_pred))"
   ]
  },
  {
   "cell_type": "code",
   "execution_count": 8,
   "metadata": {
    "collapsed": true
   },
   "outputs": [],
   "source": [
    "cm=confusion_matrix(y_true, y_pred)\n",
    "class_names=['Non-Vehicle','Vehicle']"
   ]
  },
  {
   "cell_type": "code",
   "execution_count": 9,
   "metadata": {},
   "outputs": [
    {
     "name": "stdout",
     "output_type": "stream",
     "text": [
      "Confusion matrix, without normalization\n",
      "[[647  19]\n",
      " [  6 660]]\n"
     ]
    },
    {
     "data": {
      "image/png": "[encoded data removed]",
      "text/plain": [
       "<matplotlib.figure.Figure at 0x7fba05c34ed0>"
      ]
     },
     "metadata": {},
     "output_type": "display_data"
    }
   ],
   "source": [
    "import itertools\n",
    "import numpy as np\n",
    "import matplotlib.pyplot as plt\n",
    "\n",
    "from sklearn import svm, datasets\n",
    "from sklearn.model_selection import train_test_split\n",
    "from sklearn.metrics import confusion_matrix\n",
    "def plot_confusion_matrix(cm, classes,\n",
    "                          normalize=False,\n",
    "                          title='Confusion matrix',\n",
    "                          cmap=plt.cm.Reds):\n",
    "    \"\"\"\n",
    "    This function prints and plots the confusion matrix.\n",
    "    Normalization can be applied by setting `normalize=True`.\n",
    "    \"\"\"\n",
    "    if normalize:\n",
    "        cm = cm.astype('float') / cm.sum(axis=1)[:, np.newaxis]\n",
    "        print(\"Normalized confusion matrix\")\n",
    "    else:\n",
    "        print('Confusion matrix, without normalization')\n",
    "\n",
    "    print(cm)\n",
    "    fig = plt.figure()\n",
    "    plt.imshow(cm, interpolation='nearest', cmap=cmap)\n",
    "    plt.title(title)\n",
    "    plt.colorbar()\n",
    "    tick_marks = np.arange(len(classes))\n",
    "    plt.xticks(tick_marks, classes, rotation=45)\n",
    "    plt.yticks(tick_marks, classes)\n",
    "\n",
    "    fmt = '.2f' if normalize else 'd'\n",
    "    thresh = cm.max() / 2.\n",
    "    for i, j in itertools.product(range(cm.shape[0]), range(cm.shape[1])):\n",
    "        plt.text(j, i, format(cm[i, j], fmt),\n",
    "                 horizontalalignment=\"center\",\n",
    "                 color=\"white\" if cm[i, j] > thresh else \"black\")\n",
    "\n",
    "    plt.tight_layout()\n",
    "    plt.ylabel('True label')\n",
    "    plt.xlabel('Predicted label')\n",
    "    fig.savefig('plot.png')\n",
    "plot_confusion_matrix(cm, classes=class_names,\n",
    "                      title='Confusion matrix, without normalization')\n",
    "plt.show()"
   ]
  },
  {
   "cell_type": "code",
   "execution_count": null,
   "metadata": {
    "collapsed": true
   },
   "outputs": [],
   "source": []
  }
 ],
 "metadata": {
  "kernelspec": {
   "display_name": "Python 2",
   "language": "python",
   "name": "python2"
  },
  "language_info": {
   "codemirror_mode": {
    "name": "ipython",
    "version": 2
   },
   "file_extension": ".py",
   "mimetype": "text/x-python",
   "name": "python",
   "nbconvert_exporter": "python",
   "pygments_lexer": "ipython2",
   "version": "2.7.13"
  }
 },
 "nbformat": 4,
 "nbformat_minor": 2
}
