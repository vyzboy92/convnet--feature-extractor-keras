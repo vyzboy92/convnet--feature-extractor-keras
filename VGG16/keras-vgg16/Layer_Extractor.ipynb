{
 "cells": [
  {
   "cell_type": "markdown",
   "metadata": {},
   "source": [
    "# VGG-16 as feature extractor"
   ]
  },
  {
   "cell_type": "code",
   "execution_count": null,
   "metadata": {
    "collapsed": true
   },
   "outputs": [],
   "source": [
    "from keras.preprocessing import image\n",
    "from keras.optimizers import SGD\n",
    "import os, sys\n",
    "import numpy as np\n",
    "\n",
    "\n",
    "from keras.preprocessing.image import ImageDataGenerator\n",
    "from keras.models import Sequential\n",
    "from keras.layers.convolutional import Convolution2D, MaxPooling2D, ZeroPadding2D\n",
    "from keras.layers import Activation, Dropout, Flatten, Dense\n",
    "\n",
    "img_width, img_height = 224, 224\n",
    "nb_epoch = 50\n",
    "nb_train_samples = 5312\n",
    "nb_validation_samples = 1332\n",
    "\n",
    "model_vgg = Sequential()\n",
    "model_vgg.add(ZeroPadding2D((1,1),input_shape=(3,224,224)))\n",
    "model_vgg.add(Convolution2D(64, 3, 3, activation='relu', name='conv1_1'))\n",
    "model_vgg.add(ZeroPadding2D((1,1)))\n",
    "model_vgg.add(Convolution2D(64, 3, 3, activation='relu', name='conv1_2'))\n",
    "model_vgg.add(MaxPooling2D((2,2), strides=(2,2)))\n",
    "\n",
    "model_vgg.add(ZeroPadding2D((1,1)))\n",
    "model_vgg.add(Convolution2D(128, 3, 3, activation='relu', name='conv2_1'))\n",
    "model_vgg.add(ZeroPadding2D((1,1)))\n",
    "model_vgg.add(Convolution2D(128, 3, 3, activation='relu', name='conv2_2'))\n",
    "model_vgg.add(MaxPooling2D((2,2), strides=(2,2)))\n",
    "\n",
    "model_vgg.add(ZeroPadding2D((1,1)))\n",
    "model_vgg.add(Convolution2D(256, 3, 3, activation='relu', name='conv3_1'))\n",
    "model_vgg.add(ZeroPadding2D((1,1)))\n",
    "model_vgg.add(Convolution2D(256, 3, 3, activation='relu', name='conv3_2'))\n",
    "model_vgg.add(ZeroPadding2D((1,1)))\n",
    "model_vgg.add(Convolution2D(256, 3, 3, activation='relu', name='conv3_3'))\n",
    "model_vgg.add(MaxPooling2D((2,2), strides=(2,2)))\n",
    "\n",
    "model_vgg.add(ZeroPadding2D((1,1)))\n",
    "model_vgg.add(Convolution2D(512, 3, 3, activation='relu', name='conv4_1'))\n",
    "model_vgg.add(ZeroPadding2D((1,1)))\n",
    "model_vgg.add(Convolution2D(512, 3, 3, activation='relu', name='conv4_2'))\n",
    "model_vgg.add(ZeroPadding2D((1,1)))\n",
    "model_vgg.add(Convolution2D(512, 3, 3, activation='relu', name='conv4_3')\n",
    "model_vgg.add(MaxPooling2D((2,2), strides=(2,2)))\n",
    "\n",
    "model_vgg.add(ZeroPadding2D((1,1)))\n",
    "model_vgg.add(Convolution2D(512, 3, 3, activation='relu', name='conv5_1'))\n",
    "model_vgg.add(ZeroPadding2D((1,1)))\n",
    "model_vgg.add(Convolution2D(512, 3, 3, activation='relu', name='conv5_2'))\n",
    "model_vgg.add(ZeroPadding2D((1,1)))\n",
    "model_vgg.add(Convolution2D(512, 3, 3, activation='relu', name='conv5_3'))\n",
    "model_vgg.add(MaxPooling2D((2,2), strides=(2,2)))\n",
    "\n",
    "model_vgg.add(Flatten(name=\"flatten\"))\n",
    "model_vgg.add(Dense(4096, activation='relu', name='dense_1'))\n",
    "model_vgg.add(Dropout(0.5))\n",
    "model_vgg.add(Dense(4096, activation='relu', name='dense_2'))\n",
    "model_vgg.add(Dropout(0.5))\n",
    "model_vgg.add(Dense(2, name='dense_3'))\n",
    "model_vgg.add(Activation(\"softmax\",name=\"softmax\"))\n",
    "\n",
    "model_vgg.load_weights('models/vgg16/final-model.h5', by_name=True)\n",
    "\n"
   ]
  },
  {
   "cell_type": "code",
   "execution_count": null,
   "metadata": {
    "collapsed": true
   },
   "outputs": [],
   "source": [
    "from keras.models import Model\n",
    "vgg16_convolutional_only = Model(input=model_vgg.input, output=model_vgg.get_layer('dense_2').output) # TRUNCATE MODEL AT DENSE LAYER   \n",
    "\n"
   ]
  },
  {
   "cell_type": "markdown",
   "metadata": {},
   "source": [
    "# Extract Train Data"
   ]
  },
  {
   "cell_type": "code",
   "execution_count": null,
   "metadata": {
    "collapsed": true
   },
   "outputs": [],
   "source": [
    "train_dat=np.empty((0,4096))\n",
    "im_path = \"DATA/Train/Others/\"\n",
    "dirs = os.listdir( im_path )\n",
    "for item in dirs:\n",
    "        if os.path.isfile(im_path+item):\n",
    "            im = image.load_img(im_path+item,target_size=(224,224))\n",
    "            im=image.img_to_array(im)\n",
    "            im=np.expand_dims(im,axis=0)\n",
    "            f=vgg16_convolutional_only.predict(im)\n",
    "            train_dat=np.append(train_dat,f,axis=0)"
   ]
  },
  {
   "cell_type": "code",
   "execution_count": null,
   "metadata": {
    "collapsed": true
   },
   "outputs": [],
   "source": [
    "im_path = \"DATA/Train/Vehicle/\"\n",
    "dirs = os.listdir( im_path )\n",
    "for item in dirs:\n",
    "        if os.path.isfile(im_path+item):\n",
    "            im = image.load_img(im_path+item,target_size=(224,224))\n",
    "            im=image.img_to_array(im)\n",
    "            im=np.expand_dims(im,axis=0)\n",
    "            f=vgg16_convolutional_only.predict(im)\n",
    "            train_dat=np.append(train_dat,f,axis=0)"
   ]
  },
  {
   "cell_type": "code",
   "execution_count": null,
   "metadata": {
    "collapsed": true
   },
   "outputs": [],
   "source": [
    "y=np.array([0]*2656+ [1]*2656)\n",
    "train_data=np.c_[y,train_dat]\n",
    "np.savetxt('tr_dat.csv',train_data,delimiter=',')"
   ]
  },
  {
   "cell_type": "markdown",
   "metadata": {},
   "source": [
    "# Extract Test Data"
   ]
  },
  {
   "cell_type": "code",
   "execution_count": null,
   "metadata": {
    "collapsed": true
   },
   "outputs": [],
   "source": [
    "test_dat=np.empty((0,4096))\n",
    "im_path = \"DATA/Test/Others/\"\n",
    "dirs = os.listdir( im_path )\n",
    "for item in dirs:\n",
    "        if os.path.isfile(im_path+item):\n",
    "            im = image.load_img(im_path+item,target_size=(224,224))\n",
    "            im=image.img_to_array(im)\n",
    "            im=np.expand_dims(im,axis=0)\n",
    "            f=vgg16_convolutional_only.predict(im)\n",
    "            test_dat=np.append(test_dat,f,axis=0)"
   ]
  },
  {
   "cell_type": "code",
   "execution_count": null,
   "metadata": {
    "collapsed": true
   },
   "outputs": [],
   "source": [
    "im_path = \"DATA/Test/Vehicle/\"\n",
    "dirs = os.listdir( im_path )\n",
    "for item in dirs:\n",
    "        if os.path.isfile(im_path+item):\n",
    "            im = image.load_img(im_path+item,target_size=(224,224))\n",
    "            im=image.img_to_array(im)\n",
    "            im=np.expand_dims(im,axis=0)\n",
    "            f=vgg16_convolutional_only.predict(im)\n",
    "            test_dat=np.append(test_dat,f,axis=0)"
   ]
  },
  {
   "cell_type": "code",
   "execution_count": null,
   "metadata": {
    "collapsed": true
   },
   "outputs": [],
   "source": [
    "y=np.array([0]*666+ [1]*666)\n",
    "test_data=np.c_[y,test_dat]\n",
    "np.savetxt('te_dat.csv',test_data,delimiter=',')"
   ]
  },
  {
   "cell_type": "code",
   "execution_count": null,
   "metadata": {
    "collapsed": true
   },
   "outputs": [],
   "source": []
  }
 ],
 "metadata": {
  "kernelspec": {
   "display_name": "Python 2",
   "language": "python",
   "name": "python2"
  },
  "language_info": {
   "codemirror_mode": {
    "name": "ipython",
    "version": 2
   },
   "file_extension": ".py",
   "mimetype": "text/x-python",
   "name": "python",
   "nbconvert_exporter": "python",
   "pygments_lexer": "ipython2",
   "version": "2.7.13"
  }
 },
 "nbformat": 4,
 "nbformat_minor": 2
}
